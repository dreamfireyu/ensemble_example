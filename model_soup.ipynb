{
 "cells": [
  {
   "cell_type": "markdown",
   "metadata": {},
   "source": [
    "# Model Soup ensemble example"
   ]
  },
  {
   "cell_type": "markdown",
   "metadata": {},
   "source": [
    "### Preparation"
   ]
  },
  {
   "cell_type": "markdown",
   "metadata": {},
   "source": [
    "In this notebook, we use cifar10 to show you the performance of greedy ensemble operator."
   ]
  },
  {
   "cell_type": "code",
   "execution_count": 1,
   "metadata": {},
   "outputs": [
    {
     "name": "stdout",
     "output_type": "stream",
     "text": [
      "Files already downloaded and verified\n",
      "Files already downloaded and verified\n"
     ]
    }
   ],
   "source": [
    "import torch\n",
    "import torchvision\n",
    "\n",
    "transform = torchvision.transforms.Compose([torchvision.transforms.ToTensor(),\n",
    "                                            torchvision.transforms.Normalize((0.4914, 0.4822, 0.4465), (0.2023, 0.1994, 0.2010))])\n",
    "\n",
    "tr_set = torchvision.datasets.CIFAR10(root = \"./datasets/cifar10\", train = True, download = True, transform = transform)\n",
    "te_set = torchvision.datasets.CIFAR10(root = \"./datasets/cifar10\", train = False, download = True, transform = transform)\n",
    "\n",
    "batch_size = 128\n",
    "\n",
    "tr_data = torch.utils.data.DataLoader(tr_set, batch_size = batch_size, shuffle = True)\n",
    "te_data = torch.utils.data.DataLoader(te_set, batch_size = batch_size, shuffle = False)"
   ]
  },
  {
   "cell_type": "markdown",
   "metadata": {},
   "source": [
    "### Training"
   ]
  },
  {
   "cell_type": "markdown",
   "metadata": {},
   "source": [
    "Here we train 5 resnet50 models with different seed and save them to the corresponding path.\n",
    "We also evaluate their accuracy for further comparision."
   ]
  },
  {
   "cell_type": "code",
   "execution_count": 2,
   "metadata": {},
   "outputs": [
    {
     "name": "stdout",
     "output_type": "stream",
     "text": [
      "1 - model learn\n",
      "score : 0.8301\n",
      "2 - model learn\n",
      "score : 0.8308\n",
      "3 - model learn\n",
      "score : 0.8351\n",
      "4 - model learn\n"
     ]
    }
   ],
   "source": [
    "from torch import nn\n",
    "device = torch.device(\"cuda\" if torch.cuda.is_available() else \"cpu\")\n",
    "\n",
    "def evaluate(model, data):\n",
    "    score = 0\n",
    "    model.eval()\n",
    "    with torch.no_grad():\n",
    "        for x, y in data:\n",
    "            x, y = x.to(device), y.to(device)\n",
    "            logits = model(x)\n",
    "            pred = logits.argmax(dim = 1)\n",
    "            score += (pred == y).sum().to(\"cpu\").item()\n",
    "    score = score / len(data.dataset)\n",
    "    return score\n",
    "\n",
    "result = {}\n",
    "for index in range(5):\n",
    "    print(\"{0} - model learn\".format(index + 1))\n",
    "    \n",
    "    model = torchvision.models.resnet50(pretrained = True)\n",
    "    model.to(device)\n",
    "    model.train()\n",
    "    criterion = torch.nn.CrossEntropyLoss()\n",
    "    optimizer = torch.optim.Adam(model.parameters(), lr = 1e-4)\n",
    "    for epoch in range(10):\n",
    "        for x, y in tr_data:\n",
    "            x, y = x.to(device), y.to(device)\n",
    "            optimizer.zero_grad()\n",
    "            logits = model(x)\n",
    "            loss = criterion(logits, y)\n",
    "            loss.backward()\n",
    "            optimizer.step()\n",
    "\n",
    "    score = evaluate(model, te_data)\n",
    "    print(\"score : {0:.4f}\".format(score))\n",
    "    path = \"model{0}.pth\".format(index + 1)\n",
    "    result[path] = score\n",
    "    torch.save(model.state_dict(), path)\n",
    "print(\"finish\")"
   ]
  },
  {
   "cell_type": "markdown",
   "metadata": {},
   "source": [
    "### Model Soup Ensemble & Reference"
   ]
  },
  {
   "cell_type": "markdown",
   "metadata": {},
   "source": [
    "In this part, we use model-soup ensemble operator to generate new models.\n",
    "\n",
    "Both greedy_soup and uniform_soup improve accury of classification task by at least 1%."
   ]
  },
  {
   "cell_type": "code",
   "execution_count": null,
   "metadata": {},
   "outputs": [],
   "source": [
    "import os\n",
    "import numpy as np\n",
    "import towhee\n",
    "from towhee import ops\n",
    "def metric(y_true, y_pred):\n",
    "    return ((y_true == y_pred.argmax(axis = -1)).sum() / len(y_true)).to(\"cpu\").item()\n",
    "\n",
    "print(\"[Original Performance]\")\n",
    "for k, v in result.items():\n",
    "    print(\"[{0}] score:{1:.4f}\".format(os.path.basename(k), v))\n",
    "\n",
    "print(\"\\n[Greedy Soup (uniform weight update) Performance]\")\n",
    "greedy_soup = ops.ensemble.model_soup(souptype = \"greedy_soup\")\n",
    "greedy_model = greedy_soup(model, list(result.keys()), te_data, metric = metric, device = device, compare = np.greater_equal)\n",
    "\n",
    "score = evaluate(greedy_model, te_data)\n",
    "print(\"score : {0:.4f}\".format(score))\n",
    "\n",
    "print(\"\\n[Uniform Soup Performance]\")\n",
    "uniform_soup = ops.ensemble.model_soup(souptype = \"uniform_soup\")\n",
    "uniform_model = uniform_soup(model, list(result.keys()), device = device)\n",
    "score = evaluate(uniform_model, te_data)\n",
    "print(\"score : {0:.4f}\".format(score))"
   ]
  }
 ],
 "metadata": {
  "interpreter": {
   "hash": "ee8f9d005f921b11e37646322d569d83ab1bb8b2f1f9e1244f064a47f10136b5"
  },
  "kernelspec": {
   "display_name": "Python 3.7.11 ('ensemble')",
   "language": "python",
   "name": "python3"
  },
  "language_info": {
   "codemirror_mode": {
    "name": "ipython",
    "version": 3
   },
   "file_extension": ".py",
   "mimetype": "text/x-python",
   "name": "python",
   "nbconvert_exporter": "python",
   "pygments_lexer": "ipython3",
   "version": "3.7.11"
  },
  "orig_nbformat": 4
 },
 "nbformat": 4,
 "nbformat_minor": 2
}
